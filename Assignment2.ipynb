{
 "cells": [
  {
   "cell_type": "code",
   "execution_count": 72,
   "id": "246b1b03",
   "metadata": {},
   "outputs": [],
   "source": [
    "%matplotlib inline\n",
    "\n",
    "import numpy as np\n",
    "import pandas as pd\n",
    "import matplotlib.pyplot as plt\n",
    "from datetime import datetime\n",
    "from sklearn import metrics\n",
    "from sklearn import preprocessing\n",
    "from sklearn.linear_model import LinearRegression\n",
    "from sklearn.model_selection import train_test_split\n",
    "import seaborn as sns"
   ]
  },
  {
   "cell_type": "code",
   "execution_count": 73,
   "id": "bbdbaa0c",
   "metadata": {},
   "outputs": [],
   "source": [
    "# Use case i chose: Predict stock market price for TESLA"
   ]
  },
  {
   "cell_type": "code",
   "execution_count": 74,
   "id": "ec0c5653",
   "metadata": {},
   "outputs": [],
   "source": [
    "url = \"https://raw.githubusercontent.com/Qudsiah2808/Assignment2-DAVE3625/main/TESLA.csv\"\n",
    "df = pd.read_csv(url)"
   ]
  },
  {
   "cell_type": "code",
   "execution_count": 75,
   "id": "f68cb7ed",
   "metadata": {},
   "outputs": [
    {
     "data": {
      "text/html": [
       "<div>\n",
       "<style scoped>\n",
       "    .dataframe tbody tr th:only-of-type {\n",
       "        vertical-align: middle;\n",
       "    }\n",
       "\n",
       "    .dataframe tbody tr th {\n",
       "        vertical-align: top;\n",
       "    }\n",
       "\n",
       "    .dataframe thead th {\n",
       "        text-align: right;\n",
       "    }\n",
       "</style>\n",
       "<table border=\"1\" class=\"dataframe\">\n",
       "  <thead>\n",
       "    <tr style=\"text-align: right;\">\n",
       "      <th></th>\n",
       "      <th>Date</th>\n",
       "      <th>Open</th>\n",
       "      <th>High</th>\n",
       "      <th>Low</th>\n",
       "      <th>Close</th>\n",
       "      <th>Adj Close</th>\n",
       "      <th>Volume</th>\n",
       "    </tr>\n",
       "  </thead>\n",
       "  <tbody>\n",
       "    <tr>\n",
       "      <th>0</th>\n",
       "      <td>2020-10-26</td>\n",
       "      <td>411.630005</td>\n",
       "      <td>425.760010</td>\n",
       "      <td>410.000000</td>\n",
       "      <td>420.279999</td>\n",
       "      <td>420.279999</td>\n",
       "      <td>28239200</td>\n",
       "    </tr>\n",
       "    <tr>\n",
       "      <th>1</th>\n",
       "      <td>2020-10-27</td>\n",
       "      <td>423.760010</td>\n",
       "      <td>430.500000</td>\n",
       "      <td>420.100006</td>\n",
       "      <td>424.679993</td>\n",
       "      <td>424.679993</td>\n",
       "      <td>22686500</td>\n",
       "    </tr>\n",
       "    <tr>\n",
       "      <th>2</th>\n",
       "      <td>2020-10-28</td>\n",
       "      <td>416.480011</td>\n",
       "      <td>418.600006</td>\n",
       "      <td>406.000000</td>\n",
       "      <td>406.019989</td>\n",
       "      <td>406.019989</td>\n",
       "      <td>25451400</td>\n",
       "    </tr>\n",
       "    <tr>\n",
       "      <th>3</th>\n",
       "      <td>2020-10-29</td>\n",
       "      <td>409.959991</td>\n",
       "      <td>418.059998</td>\n",
       "      <td>406.459991</td>\n",
       "      <td>410.829987</td>\n",
       "      <td>410.829987</td>\n",
       "      <td>22655300</td>\n",
       "    </tr>\n",
       "    <tr>\n",
       "      <th>4</th>\n",
       "      <td>2020-10-30</td>\n",
       "      <td>406.899994</td>\n",
       "      <td>407.589996</td>\n",
       "      <td>379.109985</td>\n",
       "      <td>388.040009</td>\n",
       "      <td>388.040009</td>\n",
       "      <td>42511300</td>\n",
       "    </tr>\n",
       "  </tbody>\n",
       "</table>\n",
       "</div>"
      ],
      "text/plain": [
       "         Date        Open        High         Low       Close   Adj Close  \\\n",
       "0  2020-10-26  411.630005  425.760010  410.000000  420.279999  420.279999   \n",
       "1  2020-10-27  423.760010  430.500000  420.100006  424.679993  424.679993   \n",
       "2  2020-10-28  416.480011  418.600006  406.000000  406.019989  406.019989   \n",
       "3  2020-10-29  409.959991  418.059998  406.459991  410.829987  410.829987   \n",
       "4  2020-10-30  406.899994  407.589996  379.109985  388.040009  388.040009   \n",
       "\n",
       "     Volume  \n",
       "0  28239200  \n",
       "1  22686500  \n",
       "2  25451400  \n",
       "3  22655300  \n",
       "4  42511300  "
      ]
     },
     "execution_count": 75,
     "metadata": {},
     "output_type": "execute_result"
    }
   ],
   "source": [
    "df.head()"
   ]
  },
  {
   "cell_type": "code",
   "execution_count": 76,
   "id": "fa709423",
   "metadata": {},
   "outputs": [],
   "source": [
    "df[\"Date\"] = pd.to_datetime(df[\"Date\"])\n",
    "df[\"Date\"] = df[\"Date\"].apply(lambda x: x.toordinal())"
   ]
  },
  {
   "cell_type": "code",
   "execution_count": 77,
   "id": "e2b2b475",
   "metadata": {},
   "outputs": [
    {
     "data": {
      "text/html": [
       "<div>\n",
       "<style scoped>\n",
       "    .dataframe tbody tr th:only-of-type {\n",
       "        vertical-align: middle;\n",
       "    }\n",
       "\n",
       "    .dataframe tbody tr th {\n",
       "        vertical-align: top;\n",
       "    }\n",
       "\n",
       "    .dataframe thead th {\n",
       "        text-align: right;\n",
       "    }\n",
       "</style>\n",
       "<table border=\"1\" class=\"dataframe\">\n",
       "  <thead>\n",
       "    <tr style=\"text-align: right;\">\n",
       "      <th></th>\n",
       "      <th>Date</th>\n",
       "      <th>Open</th>\n",
       "      <th>High</th>\n",
       "      <th>Low</th>\n",
       "      <th>Close</th>\n",
       "      <th>Adj Close</th>\n",
       "      <th>Volume</th>\n",
       "    </tr>\n",
       "  </thead>\n",
       "  <tbody>\n",
       "    <tr>\n",
       "      <th>0</th>\n",
       "      <td>737724</td>\n",
       "      <td>411.630005</td>\n",
       "      <td>425.760010</td>\n",
       "      <td>410.000000</td>\n",
       "      <td>420.279999</td>\n",
       "      <td>420.279999</td>\n",
       "      <td>28239200</td>\n",
       "    </tr>\n",
       "    <tr>\n",
       "      <th>1</th>\n",
       "      <td>737725</td>\n",
       "      <td>423.760010</td>\n",
       "      <td>430.500000</td>\n",
       "      <td>420.100006</td>\n",
       "      <td>424.679993</td>\n",
       "      <td>424.679993</td>\n",
       "      <td>22686500</td>\n",
       "    </tr>\n",
       "    <tr>\n",
       "      <th>2</th>\n",
       "      <td>737726</td>\n",
       "      <td>416.480011</td>\n",
       "      <td>418.600006</td>\n",
       "      <td>406.000000</td>\n",
       "      <td>406.019989</td>\n",
       "      <td>406.019989</td>\n",
       "      <td>25451400</td>\n",
       "    </tr>\n",
       "    <tr>\n",
       "      <th>3</th>\n",
       "      <td>737727</td>\n",
       "      <td>409.959991</td>\n",
       "      <td>418.059998</td>\n",
       "      <td>406.459991</td>\n",
       "      <td>410.829987</td>\n",
       "      <td>410.829987</td>\n",
       "      <td>22655300</td>\n",
       "    </tr>\n",
       "    <tr>\n",
       "      <th>4</th>\n",
       "      <td>737728</td>\n",
       "      <td>406.899994</td>\n",
       "      <td>407.589996</td>\n",
       "      <td>379.109985</td>\n",
       "      <td>388.040009</td>\n",
       "      <td>388.040009</td>\n",
       "      <td>42511300</td>\n",
       "    </tr>\n",
       "  </tbody>\n",
       "</table>\n",
       "</div>"
      ],
      "text/plain": [
       "     Date        Open        High         Low       Close   Adj Close  \\\n",
       "0  737724  411.630005  425.760010  410.000000  420.279999  420.279999   \n",
       "1  737725  423.760010  430.500000  420.100006  424.679993  424.679993   \n",
       "2  737726  416.480011  418.600006  406.000000  406.019989  406.019989   \n",
       "3  737727  409.959991  418.059998  406.459991  410.829987  410.829987   \n",
       "4  737728  406.899994  407.589996  379.109985  388.040009  388.040009   \n",
       "\n",
       "     Volume  \n",
       "0  28239200  \n",
       "1  22686500  \n",
       "2  25451400  \n",
       "3  22655300  \n",
       "4  42511300  "
      ]
     },
     "execution_count": 77,
     "metadata": {},
     "output_type": "execute_result"
    }
   ],
   "source": [
    "df.head()"
   ]
  },
  {
   "cell_type": "code",
   "execution_count": 78,
   "id": "6ffc08ba",
   "metadata": {},
   "outputs": [],
   "source": [
    "X = pd.DataFrame(df['Date']) \n",
    "y = pd.DataFrame(df['Close'])"
   ]
  },
  {
   "cell_type": "code",
   "execution_count": 79,
   "id": "7cbffefa",
   "metadata": {},
   "outputs": [],
   "source": [
    "X_train, X_test, y_train, y_test = train_test_split(X, y, test_size=0.40, random_state=56)"
   ]
  },
  {
   "cell_type": "code",
   "execution_count": 80,
   "id": "c7c52e63",
   "metadata": {},
   "outputs": [],
   "source": [
    "# Here I use regression\n",
    "linear_regressor = LinearRegression()  \n",
    "linear_regressor.fit(X_train, y_train)  \n",
    "Y_pred = linear_regressor.predict(X_train)"
   ]
  },
  {
   "cell_type": "code",
   "execution_count": 81,
   "id": "04d77290",
   "metadata": {},
   "outputs": [],
   "source": [
    "sns.set(rc={'figure.figsize':(12,10)})"
   ]
  },
  {
   "cell_type": "code",
   "execution_count": 82,
   "id": "4cfc666e",
   "metadata": {},
   "outputs": [
    {
     "data": {
      "image/png": "[encoded data removed]",
      "text/plain": [
       "<Figure size 864x720 with 1 Axes>"
      ]
     },
     "metadata": {},
     "output_type": "display_data"
    },
    {
     "name": "stdout",
     "output_type": "stream",
     "text": [
      "MSE = 9808.088067958939\n"
     ]
    }
   ],
   "source": [
    "plt.scatter(X_train, y_train)\n",
    "plt.plot(X_train, Y_pred)\n",
    "plt.show()\n",
    "print( \"MSE = \"+str(metrics.mean_squared_error(y_train,Y_pred)))"
   ]
  },
  {
   "cell_type": "code",
   "execution_count": 83,
   "id": "aeff17c3",
   "metadata": {},
   "outputs": [
    {
     "data": {
      "image/png": "[encoded data removed]",
      "text/plain": [
       "<Figure size 864x720 with 1 Axes>"
      ]
     },
     "metadata": {},
     "output_type": "display_data"
    },
    {
     "name": "stdout",
     "output_type": "stream",
     "text": [
      "MSE = 10308.715675198375\n"
     ]
    }
   ],
   "source": [
    "Y_pred = linear_regressor.predict(X_test)  \n",
    "plt.scatter(X_test, y_test)\n",
    "plt.plot(X_test, Y_pred)\n",
    "plt.show()\n",
    "print( \"MSE = \"+str(metrics.mean_squared_error(y_test,Y_pred)))"
   ]
  },
  {
   "cell_type": "code",
   "execution_count": 84,
   "id": "1fe8c1bf",
   "metadata": {},
   "outputs": [],
   "source": [
    "Y_pred = linear_regressor.predict(X_train) \n",
    "\n",
    "def predictPrice(date):\n",
    "    date1 = datetime.strptime(date, '%Y-%m-%d')\n",
    "    date2 = date1.toordinal()\n",
    "    \n",
    "    pred = linear_regressor.predict([[date2]]) \n",
    "    print(f\"Predicted price: {pred[0][0]}\")\n",
    "    print( \"MSE = \"+str(metrics.mean_squared_error(y_train,Y_pred)))"
   ]
  },
  {
   "cell_type": "code",
   "execution_count": 85,
   "id": "3c850f29",
   "metadata": {},
   "outputs": [
    {
     "name": "stdout",
     "output_type": "stream",
     "text": [
      "Predicted price: 582.5531097248313\n",
      "MSE = 9808.088067958939\n"
     ]
    }
   ],
   "source": [
    "predictPrice(\"2020-08-28\")"
   ]
  },
  {
   "cell_type": "code",
   "execution_count": null,
   "id": "b4acc0a3",
   "metadata": {},
   "outputs": [],
   "source": []
  },
  {
   "cell_type": "code",
   "execution_count": null,
   "id": "654e254d",
   "metadata": {},
   "outputs": [],
   "source": []
  }
 ],
 "metadata": {
  "kernelspec": {
   "display_name": "Python 3 (ipykernel)",
   "language": "python",
   "name": "python3"
  },
  "language_info": {
   "codemirror_mode": {
    "name": "ipython",
    "version": 3
   },
   "file_extension": ".py",
   "mimetype": "text/x-python",
   "name": "python",
   "nbconvert_exporter": "python",
   "pygments_lexer": "ipython3",
   "version": "3.8.11"
  }
 },
 "nbformat": 4,
 "nbformat_minor": 5
}
